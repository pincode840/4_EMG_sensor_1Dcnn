{
 "cells": [
  {
   "cell_type": "code",
   "execution_count": 264,
   "metadata": {},
   "outputs": [],
   "source": [
    "import keras\n",
    "from keras.models import Sequential\n",
    "from keras.layers import Dense, Dropout, Flatten\n",
    "from keras.layers.convolutional import Conv2D, MaxPooling2D\n",
    "import numpy as np\n",
    "import pandas as pd\n",
    "import matplotlib.pyplot as plt\n",
    "import sys\n",
    "import tensorflow as tf\n",
    "from sklearn.preprocessing import StandardScaler\n",
    "from keras.callbacks import ModelCheckpoint, EarlyStopping\n",
    "\n",
    "from sklearn.metrics import confusion_matrix"
   ]
  },
  {
   "cell_type": "code",
   "execution_count": 265,
   "metadata": {},
   "outputs": [
    {
     "name": "stdout",
     "output_type": "stream",
     "text": [
      "Class 0 Shape (2910, 65)\n",
      "Class 0 Shape (2903, 65)\n",
      "Class 0 Shape (2943, 65)\n",
      "Class 0 Shape (2922, 65)\n"
     ]
    }
   ],
   "source": [
    "df0 = pd.read_csv(\"hand_data/0.csv\", header=None)\n",
    "print(\"Class 0 Shape\", df0.shape)\n",
    "df1 = pd.read_csv(\"hand_data/1.csv\", header=None)\n",
    "print(\"Class 0 Shape\", df1.shape)\n",
    "df2 = pd.read_csv(\"hand_data/2.csv\", header=None)\n",
    "print(\"Class 0 Shape\", df2.shape)\n",
    "df3 = pd.read_csv(\"hand_data/3.csv\", header=None)\n",
    "print(\"Class 0 Shape\", df3.shape)"
   ]
  },
  {
   "cell_type": "code",
   "execution_count": 266,
   "metadata": {},
   "outputs": [
    {
     "name": "stdout",
     "output_type": "stream",
     "text": [
      "Class df Shape (11678, 65)\n",
      "     0    1    2    3     4     5      6     7     8    9   ...    55    56  \\\n",
      "0  26.0  4.0  5.0  8.0  -1.0 -13.0 -109.0 -66.0  -9.0  2.0  ... -28.0  61.0   \n",
      "1 -47.0 -6.0 -5.0 -7.0  13.0  -1.0   35.0 -10.0  10.0 -4.0  ... -25.0  47.0   \n",
      "2 -19.0 -8.0 -8.0 -8.0 -21.0  -6.0  -79.0  12.0   0.0  5.0  ... -83.0   7.0   \n",
      "3   2.0  3.0  0.0  2.0   0.0  22.0  106.0 -14.0 -16.0 -2.0  ... -38.0 -11.0   \n",
      "4   6.0  0.0  0.0 -2.0 -14.0  10.0  -51.0   5.0   7.0  0.0  ...  38.0 -35.0   \n",
      "\n",
      "    57   58    59    60    61     62    63  64  \n",
      "0  4.0  8.0   5.0   4.0  -7.0  -59.0  16.0   0  \n",
      "1  6.0  6.0   5.0  13.0  21.0  111.0  15.0   0  \n",
      "2  7.0  1.0  -8.0   7.0  21.0  114.0  48.0   0  \n",
      "3  4.0  7.0  11.0  33.0  39.0  119.0  43.0   0  \n",
      "4 -8.0  2.0   6.0 -13.0 -24.0 -112.0 -69.0   0  \n",
      "\n",
      "[5 rows x 65 columns]\n"
     ]
    }
   ],
   "source": [
    "df = pd.concat([df0,df1,df2,df3])\n",
    "data = df.values\n",
    "\n",
    "print(\"Class df Shape\", df.shape)\n",
    "print(df.head())"
   ]
  },
  {
   "cell_type": "code",
   "execution_count": 267,
   "metadata": {},
   "outputs": [],
   "source": [
    "x = df.loc[:,0:63]\n",
    "y = df[64] "
   ]
  },
  {
   "cell_type": "code",
   "execution_count": 268,
   "metadata": {},
   "outputs": [],
   "source": [
    "x = np.array(x)\n",
    "y = np.array(y)"
   ]
  },
  {
   "cell_type": "code",
   "execution_count": 269,
   "metadata": {},
   "outputs": [],
   "source": [
    "from sklearn.model_selection import train_test_split\n",
    "x_train, x_test, y_train, y_test = train_test_split(x, y, test_size=0.2, random_state=42,stratify=y)"
   ]
  },
  {
   "cell_type": "code",
   "execution_count": 270,
   "metadata": {},
   "outputs": [],
   "source": [
    "x_train = x_train.reshape(x_train.shape[0]*x_train.shape[1], 1) \n",
    "x_test = x_test.reshape(x_test.shape[0]*x_test.shape[1], 1)\n",
    "sc = StandardScaler() \n",
    "x_train = sc.fit_transform(x_train) \n",
    "x_test = sc.transform(x_test) "
   ]
  },
  {
   "cell_type": "code",
   "execution_count": 271,
   "metadata": {},
   "outputs": [
    {
     "name": "stdout",
     "output_type": "stream",
     "text": [
      "Training set size\n",
      "(9342, 8, 8)\n",
      "Test set size\n",
      "(2336, 8, 8)\n"
     ]
    }
   ],
   "source": [
    "x_train = x_train.reshape((-1, 8, 8))\n",
    "x_test = x_test.reshape((-1, 8, 8))\n",
    "\n",
    "print(\"Training set size\")\n",
    "print(x_train.shape)\n",
    "print(\"Test set size\")\n",
    "print(x_test.shape)"
   ]
  },
  {
   "cell_type": "code",
   "execution_count": 272,
   "metadata": {},
   "outputs": [],
   "source": [
    "y_train_categorical = np.eye(np.max(y_train) + 1)[y_train]\n",
    "y_test_categorical = np.eye(np.max(y_test) + 1)[y_test]\n"
   ]
  },
  {
   "cell_type": "code",
   "execution_count": 273,
   "metadata": {},
   "outputs": [
    {
     "name": "stdout",
     "output_type": "stream",
     "text": [
      "Train Data size X and y\n",
      "(9342, 8, 8)\n",
      "(9342, 4)\n",
      "Test Data size X and y\n",
      "(2336, 8, 8)\n",
      "(2336, 4)\n"
     ]
    }
   ],
   "source": [
    "print(\"Train Data size X and y\")\n",
    "print(x_train.shape)\n",
    "print(y_train_categorical.shape)\n",
    "\n",
    "print(\"Test Data size X and y\")\n",
    "print(x_test.shape)\n",
    "print(y_test_categorical.shape)"
   ]
  },
  {
   "cell_type": "code",
   "execution_count": null,
   "metadata": {},
   "outputs": [],
   "source": []
  },
  {
   "cell_type": "code",
   "execution_count": 274,
   "metadata": {},
   "outputs": [
    {
     "name": "stdout",
     "output_type": "stream",
     "text": [
      "Epoch 1/50\n",
      "292/292 [==============================] - 15s 44ms/step - loss: 0.6376 - accuracy: 0.7364 - val_loss: 0.3087 - val_accuracy: 0.8857\n",
      "Epoch 2/50\n",
      "292/292 [==============================] - 12s 43ms/step - loss: 0.2812 - accuracy: 0.9046 - val_loss: 0.2197 - val_accuracy: 0.9238\n",
      "Epoch 3/50\n",
      "292/292 [==============================] - 13s 43ms/step - loss: 0.2083 - accuracy: 0.9318 - val_loss: 0.1507 - val_accuracy: 0.9538\n",
      "Epoch 4/50\n",
      "292/292 [==============================] - 13s 43ms/step - loss: 0.1778 - accuracy: 0.9418 - val_loss: 0.1272 - val_accuracy: 0.9615\n",
      "Epoch 5/50\n",
      "292/292 [==============================] - 13s 45ms/step - loss: 0.1606 - accuracy: 0.9482 - val_loss: 0.1391 - val_accuracy: 0.9555\n",
      "Epoch 6/50\n",
      "292/292 [==============================] - 13s 44ms/step - loss: 0.1436 - accuracy: 0.9501 - val_loss: 0.1217 - val_accuracy: 0.9636\n",
      "Epoch 7/50\n",
      "292/292 [==============================] - 13s 43ms/step - loss: 0.1464 - accuracy: 0.9503 - val_loss: 0.1292 - val_accuracy: 0.9559\n",
      "Epoch 8/50\n",
      "292/292 [==============================] - 14s 49ms/step - loss: 0.1282 - accuracy: 0.9577 - val_loss: 0.1169 - val_accuracy: 0.9619\n",
      "Epoch 9/50\n",
      "292/292 [==============================] - 12s 43ms/step - loss: 0.1233 - accuracy: 0.9595 - val_loss: 0.1419 - val_accuracy: 0.9576\n",
      "Epoch 10/50\n",
      "292/292 [==============================] - 13s 45ms/step - loss: 0.1212 - accuracy: 0.9607 - val_loss: 0.1316 - val_accuracy: 0.9508\n",
      "Epoch 11/50\n",
      "292/292 [==============================] - 12s 42ms/step - loss: 0.1114 - accuracy: 0.9615 - val_loss: 0.1028 - val_accuracy: 0.9670\n",
      "Epoch 12/50\n",
      "292/292 [==============================] - 12s 43ms/step - loss: 0.1069 - accuracy: 0.9624 - val_loss: 0.0971 - val_accuracy: 0.9683\n",
      "Epoch 13/50\n",
      "292/292 [==============================] - 12s 43ms/step - loss: 0.1052 - accuracy: 0.9633 - val_loss: 0.0990 - val_accuracy: 0.9653\n",
      "Epoch 14/50\n",
      "292/292 [==============================] - 13s 43ms/step - loss: 0.0996 - accuracy: 0.9657 - val_loss: 0.1185 - val_accuracy: 0.9632\n",
      "Epoch 15/50\n",
      "292/292 [==============================] - 13s 43ms/step - loss: 0.1004 - accuracy: 0.9661 - val_loss: 0.1307 - val_accuracy: 0.9610\n",
      "Epoch 16/50\n",
      "292/292 [==============================] - 13s 43ms/step - loss: 0.0955 - accuracy: 0.9681 - val_loss: 0.1352 - val_accuracy: 0.9580\n",
      "Epoch 17/50\n",
      "292/292 [==============================] - 13s 44ms/step - loss: 0.0822 - accuracy: 0.9717 - val_loss: 0.1181 - val_accuracy: 0.9666\n",
      "Epoch 18/50\n",
      "292/292 [==============================] - 13s 43ms/step - loss: 0.0856 - accuracy: 0.9706 - val_loss: 0.1106 - val_accuracy: 0.9666\n",
      "Epoch 19/50\n",
      "292/292 [==============================] - 13s 45ms/step - loss: 0.0848 - accuracy: 0.9708 - val_loss: 0.1073 - val_accuracy: 0.9628\n",
      "Epoch 20/50\n",
      "292/292 [==============================] - 13s 43ms/step - loss: 0.0708 - accuracy: 0.9755 - val_loss: 0.1220 - val_accuracy: 0.9645\n",
      "Epoch 21/50\n",
      "292/292 [==============================] - 13s 44ms/step - loss: 0.0744 - accuracy: 0.9745 - val_loss: 0.1445 - val_accuracy: 0.9628\n",
      "Epoch 22/50\n",
      "292/292 [==============================] - 13s 44ms/step - loss: 0.0760 - accuracy: 0.9756 - val_loss: 0.1245 - val_accuracy: 0.9640\n",
      "Epoch 23/50\n",
      "292/292 [==============================] - 13s 44ms/step - loss: 0.0795 - accuracy: 0.9720 - val_loss: 0.0981 - val_accuracy: 0.9653\n",
      "Epoch 24/50\n",
      "292/292 [==============================] - 13s 43ms/step - loss: 0.0717 - accuracy: 0.9747 - val_loss: 0.1254 - val_accuracy: 0.9632\n",
      "Epoch 25/50\n",
      "292/292 [==============================] - 13s 45ms/step - loss: 0.0797 - accuracy: 0.9732 - val_loss: 0.1161 - val_accuracy: 0.9645\n",
      "Epoch 26/50\n",
      "292/292 [==============================] - 13s 44ms/step - loss: 0.0686 - accuracy: 0.9759 - val_loss: 0.1405 - val_accuracy: 0.9653\n",
      "Epoch 27/50\n",
      "292/292 [==============================] - 13s 45ms/step - loss: 0.0710 - accuracy: 0.9754 - val_loss: 0.1102 - val_accuracy: 0.9645\n",
      "Epoch 28/50\n",
      "292/292 [==============================] - 13s 44ms/step - loss: 0.0729 - accuracy: 0.9755 - val_loss: 0.0989 - val_accuracy: 0.9696\n",
      "Epoch 29/50\n",
      "292/292 [==============================] - 13s 45ms/step - loss: 0.0597 - accuracy: 0.9791 - val_loss: 0.1298 - val_accuracy: 0.9653\n",
      "Epoch 30/50\n",
      "292/292 [==============================] - 13s 44ms/step - loss: 0.0685 - accuracy: 0.9762 - val_loss: 0.1162 - val_accuracy: 0.9683\n",
      "Epoch 31/50\n",
      "292/292 [==============================] - 13s 45ms/step - loss: 0.0602 - accuracy: 0.9792 - val_loss: 0.1390 - val_accuracy: 0.9640\n",
      "Epoch 32/50\n",
      "292/292 [==============================] - 14s 48ms/step - loss: 0.0627 - accuracy: 0.9782 - val_loss: 0.1412 - val_accuracy: 0.9585\n",
      "Epoch 33/50\n",
      "292/292 [==============================] - 14s 46ms/step - loss: 0.0605 - accuracy: 0.9789 - val_loss: 0.1136 - val_accuracy: 0.9696\n",
      "Epoch 34/50\n",
      "292/292 [==============================] - 13s 46ms/step - loss: 0.0615 - accuracy: 0.9793 - val_loss: 0.1280 - val_accuracy: 0.9649\n",
      "Epoch 35/50\n",
      "292/292 [==============================] - 13s 45ms/step - loss: 0.0647 - accuracy: 0.9771 - val_loss: 0.1160 - val_accuracy: 0.9658\n",
      "Epoch 36/50\n",
      "292/292 [==============================] - 12s 41ms/step - loss: 0.0606 - accuracy: 0.9797 - val_loss: 0.1357 - val_accuracy: 0.9610\n",
      "Epoch 37/50\n",
      "292/292 [==============================] - 14s 47ms/step - loss: 0.0588 - accuracy: 0.9792 - val_loss: 0.1240 - val_accuracy: 0.9645\n",
      "Epoch 38/50\n",
      "292/292 [==============================] - 14s 47ms/step - loss: 0.0536 - accuracy: 0.9799 - val_loss: 0.1111 - val_accuracy: 0.9696\n",
      "Epoch 39/50\n",
      "292/292 [==============================] - 13s 45ms/step - loss: 0.0558 - accuracy: 0.9804 - val_loss: 0.1344 - val_accuracy: 0.9675\n",
      "Epoch 40/50\n",
      "292/292 [==============================] - 13s 46ms/step - loss: 0.0462 - accuracy: 0.9852 - val_loss: 0.1056 - val_accuracy: 0.9696\n",
      "Epoch 41/50\n",
      "292/292 [==============================] - 12s 41ms/step - loss: 0.0516 - accuracy: 0.9818 - val_loss: 0.1329 - val_accuracy: 0.9662\n",
      "Epoch 42/50\n",
      "292/292 [==============================] - 13s 45ms/step - loss: 0.0508 - accuracy: 0.9821 - val_loss: 0.1352 - val_accuracy: 0.9649\n",
      "Epoch 43/50\n",
      "292/292 [==============================] - 13s 44ms/step - loss: 0.0502 - accuracy: 0.9829 - val_loss: 0.1247 - val_accuracy: 0.9666\n",
      "Epoch 44/50\n",
      "292/292 [==============================] - 13s 45ms/step - loss: 0.0546 - accuracy: 0.9808 - val_loss: 0.1081 - val_accuracy: 0.9675\n",
      "Epoch 45/50\n",
      "292/292 [==============================] - 13s 45ms/step - loss: 0.0493 - accuracy: 0.9827 - val_loss: 0.1128 - val_accuracy: 0.9692\n",
      "Epoch 46/50\n",
      "292/292 [==============================] - 13s 44ms/step - loss: 0.0436 - accuracy: 0.9858 - val_loss: 0.1423 - val_accuracy: 0.9640\n",
      "Epoch 47/50\n",
      "292/292 [==============================] - 12s 41ms/step - loss: 0.0595 - accuracy: 0.9804 - val_loss: 0.1267 - val_accuracy: 0.9662\n",
      "Epoch 48/50\n",
      "292/292 [==============================] - 13s 43ms/step - loss: 0.0517 - accuracy: 0.9819 - val_loss: 0.1088 - val_accuracy: 0.9666\n",
      "Epoch 49/50\n",
      "292/292 [==============================] - 13s 44ms/step - loss: 0.0454 - accuracy: 0.9852 - val_loss: 0.1406 - val_accuracy: 0.9666\n",
      "Epoch 50/50\n",
      "292/292 [==============================] - 12s 43ms/step - loss: 0.0407 - accuracy: 0.9864 - val_loss: 0.1235 - val_accuracy: 0.9679\n"
     ]
    }
   ],
   "source": [
    "y_train = keras.utils.to_categorical(y_train)\n",
    "y_test = keras.utils.to_categorical(y_test)\n",
    "\n",
    "model = Sequential()\n",
    "model.add(Conv2D(32, kernel_size=(3, 3), padding='same', activation='relu', input_shape=(8, 8, 1)))\n",
    "model.add(MaxPooling2D((2,2)))\n",
    "model.add(Dropout(0.2))\n",
    "model.add(Conv2D(64, kernel_size=(3, 3), padding='same', activation='relu'))\n",
    "model.add(MaxPooling2D((2,2), strides=(2,2)))\n",
    "model.add(Dropout(0.2))\n",
    "model.add(Conv2D(128, kernel_size=(3, 3), padding='same', activation='relu'))\n",
    "model.add(MaxPooling2D((2,2), strides=(2,2)))\n",
    "model.add(Dropout(0.2))\n",
    "model.add(Conv2D(516, kernel_size=(3, 3), padding='same', activation='relu'))\n",
    "model.add(MaxPooling2D((1,1), strides=(2,2)))\n",
    "model.add(Dropout(0.2))\n",
    "model.add(Flatten())\n",
    "model.add(Dense(128, activation='relu'))\n",
    "model.add(Dense(64, activation='relu'))\n",
    "model.add(Dense(4, activation='softmax'))\n",
    "\n",
    "model.compile(optimizer='adam', loss='categorical_crossentropy', metrics=['accuracy'])\n",
    "\n",
    "history = model.fit(x_train, y_train, epochs=50, validation_data=(x_test, y_test))\n"
   ]
  },
  {
   "cell_type": "code",
   "execution_count": 275,
   "metadata": {},
   "outputs": [
    {
     "name": "stdout",
     "output_type": "stream",
     "text": [
      "Model: \"sequential_25\"\n",
      "_________________________________________________________________\n",
      " Layer (type)                Output Shape              Param #   \n",
      "=================================================================\n",
      " conv2d_100 (Conv2D)         (None, 8, 8, 32)          320       \n",
      "                                                                 \n",
      " max_pooling2d_100 (MaxPooli  (None, 4, 4, 32)         0         \n",
      " ng2D)                                                           \n",
      "                                                                 \n",
      " dropout_41 (Dropout)        (None, 4, 4, 32)          0         \n",
      "                                                                 \n",
      " conv2d_101 (Conv2D)         (None, 4, 4, 64)          18496     \n",
      "                                                                 \n",
      " max_pooling2d_101 (MaxPooli  (None, 2, 2, 64)         0         \n",
      " ng2D)                                                           \n",
      "                                                                 \n",
      " dropout_42 (Dropout)        (None, 2, 2, 64)          0         \n",
      "                                                                 \n",
      " conv2d_102 (Conv2D)         (None, 2, 2, 128)         73856     \n",
      "                                                                 \n",
      " max_pooling2d_102 (MaxPooli  (None, 1, 1, 128)        0         \n",
      " ng2D)                                                           \n",
      "                                                                 \n",
      " dropout_43 (Dropout)        (None, 1, 1, 128)         0         \n",
      "                                                                 \n",
      " conv2d_103 (Conv2D)         (None, 1, 1, 516)         594948    \n",
      "                                                                 \n",
      " max_pooling2d_103 (MaxPooli  (None, 1, 1, 516)        0         \n",
      " ng2D)                                                           \n",
      "                                                                 \n",
      " dropout_44 (Dropout)        (None, 1, 1, 516)         0         \n",
      "                                                                 \n",
      " flatten_25 (Flatten)        (None, 516)               0         \n",
      "                                                                 \n",
      " dense_57 (Dense)            (None, 128)               66176     \n",
      "                                                                 \n",
      " dense_58 (Dense)            (None, 64)                8256      \n",
      "                                                                 \n",
      " dense_59 (Dense)            (None, 4)                 260       \n",
      "                                                                 \n",
      "=================================================================\n",
      "Total params: 762,312\n",
      "Trainable params: 762,312\n",
      "Non-trainable params: 0\n",
      "_________________________________________________________________\n"
     ]
    }
   ],
   "source": [
    "model.summary()"
   ]
  },
  {
   "cell_type": "code",
   "execution_count": 276,
   "metadata": {},
   "outputs": [
    {
     "data": {
      "text/plain": [
       "<matplotlib.legend.Legend at 0x29ba6534ac0>"
      ]
     },
     "execution_count": 276,
     "metadata": {},
     "output_type": "execute_result"
    },
    {
     "data": {
      "image/png": "[encoded data removed]",
      "text/plain": [
       "<Figure size 432x288 with 1 Axes>"
      ]
     },
     "metadata": {
      "needs_background": "light"
     },
     "output_type": "display_data"
    }
   ],
   "source": [
    "plt.figure(0)\n",
    "\n",
    "plt.plot(history.history['accuracy'], label='training accuracy')\n",
    "plt.plot(history.history['val_accuracy'], label='val accuracy')\n",
    "plt.title('Accuracy')\n",
    "plt.xlabel('epochs')\n",
    "plt.ylabel('accuracy')\n",
    "plt.legend()"
   ]
  },
  {
   "cell_type": "code",
   "execution_count": 277,
   "metadata": {},
   "outputs": [
    {
     "data": {
      "text/plain": [
       "<matplotlib.legend.Legend at 0x29ba6534070>"
      ]
     },
     "execution_count": 277,
     "metadata": {},
     "output_type": "execute_result"
    },
    {
     "data": {
      "image/png": "[encoded data removed]",
      "text/plain": [
       "<Figure size 432x288 with 1 Axes>"
      ]
     },
     "metadata": {
      "needs_background": "light"
     },
     "output_type": "display_data"
    }
   ],
   "source": [
    "plt.figure(1)\n",
    "plt.plot(history.history['loss'], label='training loss')\n",
    "plt.plot(history.history['val_loss'], label='val loss')\n",
    "plt.title('Loss')\n",
    "plt.xlabel('epochs')\n",
    "plt.ylabel('loss')\n",
    "plt.legend()"
   ]
  },
  {
   "cell_type": "code",
   "execution_count": 278,
   "metadata": {},
   "outputs": [
    {
     "name": "stdout",
     "output_type": "stream",
     "text": [
      "73/73 [==============================] - 0s 5ms/step - loss: 0.1235 - accuracy: 0.9679\n",
      "Test Loss : 0.123475581407547\n",
      "Test Accuracy  : 0.9678938388824463\n"
     ]
    }
   ],
   "source": [
    "score = model.evaluate(x_test, y_test)\n",
    "print(f'Test Loss : {score[0]}')\n",
    "print(f'Test Accuracy  : {score[1]}')"
   ]
  },
  {
   "cell_type": "code",
   "execution_count": 279,
   "metadata": {},
   "outputs": [
    {
     "name": "stdout",
     "output_type": "stream",
     "text": [
      "73/73 [==============================] - 1s 6ms/step\n"
     ]
    },
    {
     "data": {
      "text/plain": [
       "array([3, 0, 0, 2, 1, 1, 0, 3, 2, 2], dtype=int64)"
      ]
     },
     "execution_count": 279,
     "metadata": {},
     "output_type": "execute_result"
    }
   ],
   "source": [
    "predicted_result = model.predict(x_test)\n",
    "predicted_labels = np.argmax(predicted_result,  axis=1)\n",
    "predicted_labels[:10]"
   ]
  },
  {
   "cell_type": "code",
   "execution_count": 280,
   "metadata": {},
   "outputs": [
    {
     "data": {
      "image/png": "[encoded data removed]",
      "text/plain": [
       "<Figure size 864x576 with 1 Axes>"
      ]
     },
     "metadata": {
      "needs_background": "light"
     },
     "output_type": "display_data"
    }
   ],
   "source": [
    "plot_target = ['loss', 'val_loss', 'accuracy', 'val_accuracy']\n",
    "plt.figure(figsize = (12,8))\n",
    "\n",
    "for each in plot_target:\n",
    "    plt.plot(history.history[each], label = each)\n",
    "    \n",
    "plt.legend()\n",
    "plt.grid()\n",
    "plt.show()"
   ]
  }
 ],
 "metadata": {
  "kernelspec": {
   "display_name": "base",
   "language": "python",
   "name": "python3"
  },
  "language_info": {
   "codemirror_mode": {
    "name": "ipython",
    "version": 3
   },
   "file_extension": ".py",
   "mimetype": "text/x-python",
   "name": "python",
   "nbconvert_exporter": "python",
   "pygments_lexer": "ipython3",
   "version": "3.9.7"
  },
  "orig_nbformat": 4,
  "vscode": {
   "interpreter": {
    "hash": "6e40ad84c8dedbe3a745b7ddd7699f72e8e84b5d7b6506ebeff40d82214c5bc7"
   }
  }
 },
 "nbformat": 4,
 "nbformat_minor": 2
}
